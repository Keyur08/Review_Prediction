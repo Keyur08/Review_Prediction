{
  "cells": [
    {
      "cell_type": "code",
      "execution_count": null,
      "metadata": {
        "colab": {
          "base_uri": "https://localhost:8080/"
        },
        "id": "sr9Lf5DxrrA0",
        "outputId": "68ae2b87-9b96-4736-f592-53bef9ae5a1f"
      },
      "outputs": [
        {
          "output_type": "stream",
          "name": "stdout",
          "text": [
            "1. Option 1\n",
            "2. Option 2\n",
            "3. Option 3\n",
            "4. Exit\n",
            "Enter your choice: 1\n",
            "You selected Option 1\n",
            "Error: Failed to execute ''.\n",
            "/usr/bin/python3: can't find '__main__' module in '/content/'\n",
            "\n",
            "Do you want to enter another choice? (yes/no): no\n",
            "Thank you. Exiting...\n"
          ]
        }
      ],
      "source": [
        "# while True:\n",
        "#     print(\"1. Option 1\")\n",
        "#     print(\"2. Option 2\")\n",
        "#     print(\"3. Option 3\")\n",
        "#     print(\"4. Exit\")\n",
        "\n",
        "#     choice = input(\"Enter your choice: \")\n",
        "\n",
        "#     if choice == \"1\":\n",
        "#         # Code for Option 1\n",
        "#         print(\"You selected Option 1\")\n",
        "#         import os\n",
        "#         import subprocess\n",
        "\n",
        "#         def execute_python_file(file_path):\n",
        "#           try:\n",
        "#             completed_process = subprocess.run(['python', file_path], capture_output=True, text=True)\n",
        "#             if completed_process.returncode == 0:\n",
        "#               print(\"Execution successful.\")\n",
        "#               print(\"Output:\")\n",
        "#               print(completed_process.stdout)\n",
        "#             else:\n",
        "#               print(f\"Error: Failed to execute '{file_path}'.\")\n",
        "#               # print(\"Error output:\")\n",
        "#               print(completed_process.stderr)\n",
        "#           except FileNotFoundError:\n",
        "#              print(f\"Error: The file '{file_path}' does not exist.\")\n",
        "\n",
        "#         file_path = ''\n",
        "#         execute_python_file(file_path)\n",
        "#     else:\n",
        "#         print(\"Invalid choice. Please enter a valid option.\")\n",
        "\n",
        "#     continue_choice = input(\"Do you want to enter another choice? (yes/no): \")\n",
        "#     if continue_choice.lower() != \"yes\":\n",
        "#         print(\"Thank you. Exiting...\")\n",
        "#         break\n"
      ]
    },
    {
      "cell_type": "markdown",
      "source": [
        "Syntax:-"
      ],
      "metadata": {
        "id": "PWo8-R-_GQjS"
      }
    },
    {
      "cell_type": "markdown",
      "metadata": {
        "id": "5dKf2Vg3rrwk"
      },
      "source": [
        "***"
      ]
    },
    {
      "cell_type": "code",
      "execution_count": null,
      "metadata": {
        "id": "GDaZSM5wY1Xx"
      },
      "outputs": [],
      "source": [
        "# importing libraries\n",
        "import pandas as pd\n",
        "import numpy as np\n",
        "import os\n",
        "import matplotlib.pyplot as plt\n",
        "import time\n",
        "import nltk\n",
        "import matplotlib.pyplot as plt\n",
        "import matplotlib\n",
        "matplotlib.style.use('ggplot')\n",
        "\n",
        "from sklearn.feature_extraction.text import TfidfVectorizer\n",
        "from sklearn.cluster import KMeans\n",
        "\n",
        "from __future__ import unicode_literals\n",
        "from nltk.sentiment.vader import SentimentIntensityAnalyzer\n",
        "\n",
        "# if Keyur is using: /content/drive/MyDrive/ML_Project_(Twitter)/Data set/Amazon_Unlocked_Mobile.csv"
      ]
    },
    {
      "cell_type": "code",
      "execution_count": null,
      "metadata": {
        "id": "52x0onfDSj-J",
        "colab": {
          "base_uri": "https://localhost:8080/"
        },
        "outputId": "e46f5cef-08b7-4a2d-9176-dbdd31cafbab"
      },
      "outputs": [
        {
          "output_type": "stream",
          "name": "stdout",
          "text": [
            "Drive already mounted at /content/drive; to attempt to forcibly remount, call drive.mount(\"/content/drive\", force_remount=True).\n"
          ]
        }
      ],
      "source": [
        "from google.colab import drive\n",
        "drive.mount('/content/drive')"
      ]
    },
    {
      "cell_type": "code",
      "execution_count": null,
      "metadata": {
        "id": "fcJDpY7zaTMq",
        "colab": {
          "base_uri": "https://localhost:8080/",
          "height": 206
        },
        "outputId": "c8bc57ad-8609-4b84-d868-6c62aa2890a3"
      },
      "outputs": [
        {
          "output_type": "execute_result",
          "data": {
            "text/plain": [
              "                                        Product Name Brand Name   Price  \\\n",
              "0  \"CLEAR CLEAN ESN\" Sprint EPIC 4G Galaxy SPH-D7...    Samsung  199.99   \n",
              "1  \"CLEAR CLEAN ESN\" Sprint EPIC 4G Galaxy SPH-D7...    Samsung  199.99   \n",
              "2  \"CLEAR CLEAN ESN\" Sprint EPIC 4G Galaxy SPH-D7...    Samsung  199.99   \n",
              "3  \"CLEAR CLEAN ESN\" Sprint EPIC 4G Galaxy SPH-D7...    Samsung  199.99   \n",
              "4  \"CLEAR CLEAN ESN\" Sprint EPIC 4G Galaxy SPH-D7...    Samsung  199.99   \n",
              "\n",
              "   Rating                                            Reviews  Review Votes  \n",
              "0       5  I feel so LUCKY to have found this used (phone...           1.0  \n",
              "1       4  nice phone, nice up grade from my pantach revu...           0.0  \n",
              "2       5                                       Very pleased           0.0  \n",
              "3       4  It works good but it goes slow sometimes but i...           0.0  \n",
              "4       4  Great phone to replace my lost phone. The only...           0.0  "
            ],
            "text/html": [
              "\n",
              "  <div id=\"df-e77d6e00-e0bd-450d-b4bd-a82ed215e752\" class=\"colab-df-container\">\n",
              "    <div>\n",
              "<style scoped>\n",
              "    .dataframe tbody tr th:only-of-type {\n",
              "        vertical-align: middle;\n",
              "    }\n",
              "\n",
              "    .dataframe tbody tr th {\n",
              "        vertical-align: top;\n",
              "    }\n",
              "\n",
              "    .dataframe thead th {\n",
              "        text-align: right;\n",
              "    }\n",
              "</style>\n",
              "<table border=\"1\" class=\"dataframe\">\n",
              "  <thead>\n",
              "    <tr style=\"text-align: right;\">\n",
              "      <th></th>\n",
              "      <th>Product Name</th>\n",
              "      <th>Brand Name</th>\n",
              "      <th>Price</th>\n",
              "      <th>Rating</th>\n",
              "      <th>Reviews</th>\n",
              "      <th>Review Votes</th>\n",
              "    </tr>\n",
              "  </thead>\n",
              "  <tbody>\n",
              "    <tr>\n",
              "      <th>0</th>\n",
              "      <td>\"CLEAR CLEAN ESN\" Sprint EPIC 4G Galaxy SPH-D7...</td>\n",
              "      <td>Samsung</td>\n",
              "      <td>199.99</td>\n",
              "      <td>5</td>\n",
              "      <td>I feel so LUCKY to have found this used (phone...</td>\n",
              "      <td>1.0</td>\n",
              "    </tr>\n",
              "    <tr>\n",
              "      <th>1</th>\n",
              "      <td>\"CLEAR CLEAN ESN\" Sprint EPIC 4G Galaxy SPH-D7...</td>\n",
              "      <td>Samsung</td>\n",
              "      <td>199.99</td>\n",
              "      <td>4</td>\n",
              "      <td>nice phone, nice up grade from my pantach revu...</td>\n",
              "      <td>0.0</td>\n",
              "    </tr>\n",
              "    <tr>\n",
              "      <th>2</th>\n",
              "      <td>\"CLEAR CLEAN ESN\" Sprint EPIC 4G Galaxy SPH-D7...</td>\n",
              "      <td>Samsung</td>\n",
              "      <td>199.99</td>\n",
              "      <td>5</td>\n",
              "      <td>Very pleased</td>\n",
              "      <td>0.0</td>\n",
              "    </tr>\n",
              "    <tr>\n",
              "      <th>3</th>\n",
              "      <td>\"CLEAR CLEAN ESN\" Sprint EPIC 4G Galaxy SPH-D7...</td>\n",
              "      <td>Samsung</td>\n",
              "      <td>199.99</td>\n",
              "      <td>4</td>\n",
              "      <td>It works good but it goes slow sometimes but i...</td>\n",
              "      <td>0.0</td>\n",
              "    </tr>\n",
              "    <tr>\n",
              "      <th>4</th>\n",
              "      <td>\"CLEAR CLEAN ESN\" Sprint EPIC 4G Galaxy SPH-D7...</td>\n",
              "      <td>Samsung</td>\n",
              "      <td>199.99</td>\n",
              "      <td>4</td>\n",
              "      <td>Great phone to replace my lost phone. The only...</td>\n",
              "      <td>0.0</td>\n",
              "    </tr>\n",
              "  </tbody>\n",
              "</table>\n",
              "</div>\n",
              "    <div class=\"colab-df-buttons\">\n",
              "\n",
              "  <div class=\"colab-df-container\">\n",
              "    <button class=\"colab-df-convert\" onclick=\"convertToInteractive('df-e77d6e00-e0bd-450d-b4bd-a82ed215e752')\"\n",
              "            title=\"Convert this dataframe to an interactive table.\"\n",
              "            style=\"display:none;\">\n",
              "\n",
              "  <svg xmlns=\"http://www.w3.org/2000/svg\" height=\"24px\" viewBox=\"0 -960 960 960\">\n",
              "    <path d=\"M120-120v-720h720v720H120Zm60-500h600v-160H180v160Zm220 220h160v-160H400v160Zm0 220h160v-160H400v160ZM180-400h160v-160H180v160Zm440 0h160v-160H620v160ZM180-180h160v-160H180v160Zm440 0h160v-160H620v160Z\"/>\n",
              "  </svg>\n",
              "    </button>\n",
              "\n",
              "  <style>\n",
              "    .colab-df-container {\n",
              "      display:flex;\n",
              "      gap: 12px;\n",
              "    }\n",
              "\n",
              "    .colab-df-convert {\n",
              "      background-color: #E8F0FE;\n",
              "      border: none;\n",
              "      border-radius: 50%;\n",
              "      cursor: pointer;\n",
              "      display: none;\n",
              "      fill: #1967D2;\n",
              "      height: 32px;\n",
              "      padding: 0 0 0 0;\n",
              "      width: 32px;\n",
              "    }\n",
              "\n",
              "    .colab-df-convert:hover {\n",
              "      background-color: #E2EBFA;\n",
              "      box-shadow: 0px 1px 2px rgba(60, 64, 67, 0.3), 0px 1px 3px 1px rgba(60, 64, 67, 0.15);\n",
              "      fill: #174EA6;\n",
              "    }\n",
              "\n",
              "    .colab-df-buttons div {\n",
              "      margin-bottom: 4px;\n",
              "    }\n",
              "\n",
              "    [theme=dark] .colab-df-convert {\n",
              "      background-color: #3B4455;\n",
              "      fill: #D2E3FC;\n",
              "    }\n",
              "\n",
              "    [theme=dark] .colab-df-convert:hover {\n",
              "      background-color: #434B5C;\n",
              "      box-shadow: 0px 1px 3px 1px rgba(0, 0, 0, 0.15);\n",
              "      filter: drop-shadow(0px 1px 2px rgba(0, 0, 0, 0.3));\n",
              "      fill: #FFFFFF;\n",
              "    }\n",
              "  </style>\n",
              "\n",
              "    <script>\n",
              "      const buttonEl =\n",
              "        document.querySelector('#df-e77d6e00-e0bd-450d-b4bd-a82ed215e752 button.colab-df-convert');\n",
              "      buttonEl.style.display =\n",
              "        google.colab.kernel.accessAllowed ? 'block' : 'none';\n",
              "\n",
              "      async function convertToInteractive(key) {\n",
              "        const element = document.querySelector('#df-e77d6e00-e0bd-450d-b4bd-a82ed215e752');\n",
              "        const dataTable =\n",
              "          await google.colab.kernel.invokeFunction('convertToInteractive',\n",
              "                                                    [key], {});\n",
              "        if (!dataTable) return;\n",
              "\n",
              "        const docLinkHtml = 'Like what you see? Visit the ' +\n",
              "          '<a target=\"_blank\" href=https://colab.research.google.com/notebooks/data_table.ipynb>data table notebook</a>'\n",
              "          + ' to learn more about interactive tables.';\n",
              "        element.innerHTML = '';\n",
              "        dataTable['output_type'] = 'display_data';\n",
              "        await google.colab.output.renderOutput(dataTable, element);\n",
              "        const docLink = document.createElement('div');\n",
              "        docLink.innerHTML = docLinkHtml;\n",
              "        element.appendChild(docLink);\n",
              "      }\n",
              "    </script>\n",
              "  </div>\n",
              "\n",
              "\n",
              "<div id=\"df-2b6f8741-f00a-4e2a-982f-b8f0892d7df5\">\n",
              "  <button class=\"colab-df-quickchart\" onclick=\"quickchart('df-2b6f8741-f00a-4e2a-982f-b8f0892d7df5')\"\n",
              "            title=\"Suggest charts.\"\n",
              "            style=\"display:none;\">\n",
              "\n",
              "<svg xmlns=\"http://www.w3.org/2000/svg\" height=\"24px\"viewBox=\"0 0 24 24\"\n",
              "     width=\"24px\">\n",
              "    <g>\n",
              "        <path d=\"M19 3H5c-1.1 0-2 .9-2 2v14c0 1.1.9 2 2 2h14c1.1 0 2-.9 2-2V5c0-1.1-.9-2-2-2zM9 17H7v-7h2v7zm4 0h-2V7h2v10zm4 0h-2v-4h2v4z\"/>\n",
              "    </g>\n",
              "</svg>\n",
              "  </button>\n",
              "\n",
              "<style>\n",
              "  .colab-df-quickchart {\n",
              "      --bg-color: #E8F0FE;\n",
              "      --fill-color: #1967D2;\n",
              "      --hover-bg-color: #E2EBFA;\n",
              "      --hover-fill-color: #174EA6;\n",
              "      --disabled-fill-color: #AAA;\n",
              "      --disabled-bg-color: #DDD;\n",
              "  }\n",
              "\n",
              "  [theme=dark] .colab-df-quickchart {\n",
              "      --bg-color: #3B4455;\n",
              "      --fill-color: #D2E3FC;\n",
              "      --hover-bg-color: #434B5C;\n",
              "      --hover-fill-color: #FFFFFF;\n",
              "      --disabled-bg-color: #3B4455;\n",
              "      --disabled-fill-color: #666;\n",
              "  }\n",
              "\n",
              "  .colab-df-quickchart {\n",
              "    background-color: var(--bg-color);\n",
              "    border: none;\n",
              "    border-radius: 50%;\n",
              "    cursor: pointer;\n",
              "    display: none;\n",
              "    fill: var(--fill-color);\n",
              "    height: 32px;\n",
              "    padding: 0;\n",
              "    width: 32px;\n",
              "  }\n",
              "\n",
              "  .colab-df-quickchart:hover {\n",
              "    background-color: var(--hover-bg-color);\n",
              "    box-shadow: 0 1px 2px rgba(60, 64, 67, 0.3), 0 1px 3px 1px rgba(60, 64, 67, 0.15);\n",
              "    fill: var(--button-hover-fill-color);\n",
              "  }\n",
              "\n",
              "  .colab-df-quickchart-complete:disabled,\n",
              "  .colab-df-quickchart-complete:disabled:hover {\n",
              "    background-color: var(--disabled-bg-color);\n",
              "    fill: var(--disabled-fill-color);\n",
              "    box-shadow: none;\n",
              "  }\n",
              "\n",
              "  .colab-df-spinner {\n",
              "    border: 2px solid var(--fill-color);\n",
              "    border-color: transparent;\n",
              "    border-bottom-color: var(--fill-color);\n",
              "    animation:\n",
              "      spin 1s steps(1) infinite;\n",
              "  }\n",
              "\n",
              "  @keyframes spin {\n",
              "    0% {\n",
              "      border-color: transparent;\n",
              "      border-bottom-color: var(--fill-color);\n",
              "      border-left-color: var(--fill-color);\n",
              "    }\n",
              "    20% {\n",
              "      border-color: transparent;\n",
              "      border-left-color: var(--fill-color);\n",
              "      border-top-color: var(--fill-color);\n",
              "    }\n",
              "    30% {\n",
              "      border-color: transparent;\n",
              "      border-left-color: var(--fill-color);\n",
              "      border-top-color: var(--fill-color);\n",
              "      border-right-color: var(--fill-color);\n",
              "    }\n",
              "    40% {\n",
              "      border-color: transparent;\n",
              "      border-right-color: var(--fill-color);\n",
              "      border-top-color: var(--fill-color);\n",
              "    }\n",
              "    60% {\n",
              "      border-color: transparent;\n",
              "      border-right-color: var(--fill-color);\n",
              "    }\n",
              "    80% {\n",
              "      border-color: transparent;\n",
              "      border-right-color: var(--fill-color);\n",
              "      border-bottom-color: var(--fill-color);\n",
              "    }\n",
              "    90% {\n",
              "      border-color: transparent;\n",
              "      border-bottom-color: var(--fill-color);\n",
              "    }\n",
              "  }\n",
              "</style>\n",
              "\n",
              "  <script>\n",
              "    async function quickchart(key) {\n",
              "      const quickchartButtonEl =\n",
              "        document.querySelector('#' + key + ' button');\n",
              "      quickchartButtonEl.disabled = true;  // To prevent multiple clicks.\n",
              "      quickchartButtonEl.classList.add('colab-df-spinner');\n",
              "      try {\n",
              "        const charts = await google.colab.kernel.invokeFunction(\n",
              "            'suggestCharts', [key], {});\n",
              "      } catch (error) {\n",
              "        console.error('Error during call to suggestCharts:', error);\n",
              "      }\n",
              "      quickchartButtonEl.classList.remove('colab-df-spinner');\n",
              "      quickchartButtonEl.classList.add('colab-df-quickchart-complete');\n",
              "    }\n",
              "    (() => {\n",
              "      let quickchartButtonEl =\n",
              "        document.querySelector('#df-2b6f8741-f00a-4e2a-982f-b8f0892d7df5 button');\n",
              "      quickchartButtonEl.style.display =\n",
              "        google.colab.kernel.accessAllowed ? 'block' : 'none';\n",
              "    })();\n",
              "  </script>\n",
              "</div>\n",
              "    </div>\n",
              "  </div>\n"
            ]
          },
          "metadata": {},
          "execution_count": 5
        }
      ],
      "source": [
        "df=pd.read_csv(\"/content/drive/MyDrive/ML_Project_(Twitter)/Data set/Amazon_Unlocked_Mobile.csv\")\n",
        "df.head()"
      ]
    },
    {
      "cell_type": "code",
      "execution_count": null,
      "metadata": {
        "id": "FK_wJh9Aaj9F",
        "colab": {
          "base_uri": "https://localhost:8080/"
        },
        "outputId": "d93f87f1-3c63-4ae7-ed64-a4e186310f44"
      },
      "outputs": [
        {
          "output_type": "stream",
          "name": "stdout",
          "text": [
            "Product Name        0\n",
            "Brand Name      65171\n",
            "Price            5933\n",
            "Rating              0\n",
            "Reviews            62\n",
            "Review Votes    12296\n",
            "dtype: int64\n",
            "               Price         Rating   Review Votes\n",
            "count  407907.000000  413840.000000  401544.000000\n",
            "mean      226.867155       3.819578       1.507237\n",
            "std       273.006259       1.548216       9.163853\n",
            "min         1.730000       1.000000       0.000000\n",
            "25%        79.990000       3.000000       0.000000\n",
            "50%       144.710000       5.000000       0.000000\n",
            "75%       269.990000       5.000000       1.000000\n",
            "max      2598.000000       5.000000     645.000000\n",
            "Index(['Product Name', 'Brand Name', 'Price', 'Rating', 'Reviews',\n",
            "       'Review Votes'],\n",
            "      dtype='object')\n",
            "Data type: Product Name     object\n",
            "Brand Name       object\n",
            "Price           float64\n",
            "Rating            int64\n",
            "Reviews          object\n",
            "Review Votes    float64\n",
            "dtype: object\n"
          ]
        }
      ],
      "source": [
        "print(df.isnull().sum())\n",
        "print(df.describe())\n",
        "print(df.columns)\n",
        "print(\"Data type:\",df.dtypes)"
      ]
    },
    {
      "cell_type": "code",
      "execution_count": null,
      "metadata": {
        "id": "wWxAio6sauWq",
        "colab": {
          "base_uri": "https://localhost:8080/"
        },
        "outputId": "dee17f96-6f3c-48d2-f41b-0e3edcf4657f"
      },
      "outputs": [
        {
          "output_type": "stream",
          "name": "stdout",
          "text": [
            "Number of reviews:- 413840\n",
            "dimensions of data_set: (413840, 6)\n",
            "SAMSUNG       68720\n",
            "BLU           63256\n",
            "APPLE         58187\n",
            "LG            22423\n",
            "BLACKBERRY    17929\n",
            "NOKIA         16841\n",
            "MOTOROLA      13447\n",
            "HTC           12927\n",
            "CNPGD         12613\n",
            "OTTERBOX       7989\n",
            "Name: Brand Name, dtype: int64\n",
            "\n",
            "Price Mean 226.86715538100597\n",
            "Price Median: 144.71\n"
          ]
        }
      ],
      "source": [
        "reviews=df['Reviews']\n",
        "print(\"Number of reviews:-\",len(reviews))\n",
        "\n",
        "print(\"dimensions of data_set:\",df.shape)\n",
        "\n",
        "brand_name=df['Brand Name'].str.upper()\n",
        "print(brand_name.value_counts().head(10))\n",
        "\n",
        "print(\"\")\n",
        "\n",
        "price=df[\"Price\"]\n",
        "print(\"Price Mean\",price.mean())\n",
        "print(\"Price Median:\",price.median())"
      ]
    },
    {
      "cell_type": "code",
      "execution_count": null,
      "metadata": {
        "id": "3hSBJ8nTay0a",
        "colab": {
          "base_uri": "https://localhost:8080/"
        },
        "outputId": "c4dc3c4b-14af-4844-fd28-8750bb3c5911"
      },
      "outputs": [
        {
          "output_type": "stream",
          "name": "stdout",
          "text": [
            "CPU times: user 2 µs, sys: 1 µs, total: 3 µs\n",
            "Wall time: 4.77 µs\n"
          ]
        }
      ],
      "source": [
        "%time\n",
        "table= pd.pivot_table(df, values=['Price'],\n",
        "                      index=['Brand Name'],\n",
        "                      columns=[],\n",
        "                      aggfunc=[np.mean, np.median],\n",
        "                      margins=True)\n"
      ]
    },
    {
      "cell_type": "code",
      "execution_count": null,
      "metadata": {
        "id": "nDEtr6QJa5xC",
        "colab": {
          "base_uri": "https://localhost:8080/"
        },
        "outputId": "e7917831-bc9c-434c-91e6-3277c76c5f05"
      },
      "outputs": [
        {
          "output_type": "stream",
          "name": "stdout",
          "text": [
            "                count  min  max\n",
            "Brand Name                     \n",
            "Samsung         65747    1    5\n",
            "BLU             63248    1    5\n",
            "Apple           58186    1    5\n",
            "LG              22417    1    5\n",
            "BlackBerry      16872    1    5\n",
            "Nokia           16806    1    5\n",
            "Motorola        13417    1    5\n",
            "HTC             12724    1    5\n",
            "CNPGD           12613    1    5\n",
            "OtterBox         7989    1    5\n",
            "Sony             7828    1    5\n",
            "Posh Mobile      6765    1    5\n",
            "Huawei           3325    1    5\n",
            "LG Electronics   3105    1    5\n",
            "samsung          2431    1    5\n",
            "\n"
          ]
        }
      ],
      "source": [
        "#  Review Rating\n",
        "customer_ratings= df.groupby(\"Brand Name\").Rating.agg(['count','min','max']).sort_values('count',ascending=False)\n",
        "print(customer_ratings.head(15))\n",
        "print(\"\")"
      ]
    },
    {
      "cell_type": "code",
      "execution_count": null,
      "metadata": {
        "id": "JmrB5SzvbAc8",
        "colab": {
          "base_uri": "https://localhost:8080/"
        },
        "outputId": "c0944780-8ecb-41c0-b014-ec10d37e926d"
      },
      "outputs": [
        {
          "output_type": "stream",
          "name": "stdout",
          "text": [
            "                                                    count  min  max\n",
            "Product Name                                                       \n",
            "Apple iPhone 4s 8GB Unlocked Smartphone w/ 8MP ...   1451    1    5\n",
            "Apple MF259LL/A - iPhone 4s 8GB / 8MP Camera - ...   1241    1    5\n",
            "BLU Studio 5.0 C HD Unlocked Cellphone, Black        1194    1    5\n",
            "OtterBox Iphone 5/5S/SE Defender Case w/ Drop a...   1129    1    5\n",
            "Motorola Moto E (1st Generation) - Black - 4 GB...   1127    1    5\n",
            "Apple iPhone 5s 32GB (Silver) - AT&T                 1118    1    5\n",
            "BLU Energy X Plus Smartphone - With 4000 mAh Su...   1111    1    5\n",
            "Samsung Galaxy S Duos II S7582 DUAL SIM Factory...   1109    1    5\n",
            "Samsung Galaxy S Duos II GT-S7582 Factory Unloc...   1108    1    5\n",
            "Samsung Galaxy S Duos GT-S7562 GSM Unlocked Tou...   1096    1    5\n",
            "Samsung Galaxy S4 i9505 16GB LTE Unlocked Inter...   1095    1    5\n",
            "Apple iPhone 5s AT&T Cellphone, 16GB, Silver         1080    1    5\n",
            "Apple iPhone 4S 16GB Unlocked GSM - White (Cert...   1071    1    5\n",
            "BLU Energy X Plus Smartphone - With 4000 mAh Su...   1061    1    5\n",
            "Motorola Moto E (1st Generation) - Black - 4 GB...   1057    1    5\n"
          ]
        }
      ],
      "source": [
        "#product ratings\n",
        "product_ratings=df.groupby('Product Name').Rating.agg(['count','min','max']).sort_values('count',ascending=False)\n",
        "print(product_ratings.head(15))\n"
      ]
    },
    {
      "cell_type": "code",
      "execution_count": null,
      "metadata": {
        "id": "IaCmW_ulbHq1",
        "colab": {
          "base_uri": "https://localhost:8080/"
        },
        "outputId": "eccc43fa-0a72-4758-ca56-42582ffada66"
      },
      "outputs": [
        {
          "output_type": "stream",
          "name": "stdout",
          "text": [
            "                                                    count  min  max\n",
            "Product Name                                                       \n",
            "Apple iPhone 4s 8GB Unlocked Smartphone w/ 8MP ...   1451    1    5\n",
            "Apple MF259LL/A - iPhone 4s 8GB / 8MP Camera - ...   1241    1    5\n",
            "BLU Studio 5.0 C HD Unlocked Cellphone, Black        1194    1    5\n",
            "OtterBox Iphone 5/5S/SE Defender Case w/ Drop a...   1129    1    5\n",
            "Motorola Moto E (1st Generation) - Black - 4 GB...   1127    1    5\n",
            "Apple iPhone 5s 32GB (Silver) - AT&T                 1118    1    5\n",
            "BLU Energy X Plus Smartphone - With 4000 mAh Su...   1111    1    5\n",
            "Samsung Galaxy S Duos II S7582 DUAL SIM Factory...   1109    1    5\n",
            "Samsung Galaxy S Duos II GT-S7582 Factory Unloc...   1108    1    5\n",
            "Samsung Galaxy S Duos GT-S7562 GSM Unlocked Tou...   1096    1    5\n",
            "Samsung Galaxy S4 i9505 16GB LTE Unlocked Inter...   1095    1    5\n",
            "Apple iPhone 5s AT&T Cellphone, 16GB, Silver         1080    1    5\n",
            "Apple iPhone 4S 16GB Unlocked GSM - White (Cert...   1071    1    5\n",
            "BLU Energy X Plus Smartphone - With 4000 mAh Su...   1061    1    5\n",
            "Motorola Moto E (1st Generation) - Black - 4 GB...   1057    1    5\n"
          ]
        }
      ],
      "source": [
        "#product ratings\n",
        "product_ratings=df.groupby('Product Name').Rating.agg(['count','min','max']).sort_values('count',ascending=False)\n",
        "print(product_ratings.head(15))\n",
        "\n",
        "\n"
      ]
    },
    {
      "cell_type": "code",
      "execution_count": null,
      "metadata": {
        "id": "T79ezIQ_brci"
      },
      "outputs": [],
      "source": [
        "\n",
        "from nltk.sentiment.vader import SentimentIntensityAnalyzer\n",
        "sample_review= reviews[:10]\n",
        "\n"
      ]
    },
    {
      "cell_type": "code",
      "execution_count": null,
      "metadata": {
        "id": "MsYIzE_Hbtkw",
        "colab": {
          "base_uri": "https://localhost:8080/"
        },
        "outputId": "138877a9-f4d5-40ab-e5f4-40baf8f96606"
      },
      "outputs": [
        {
          "output_type": "stream",
          "name": "stderr",
          "text": [
            "[nltk_data] Downloading package vader_lexicon to /root/nltk_data...\n"
          ]
        }
      ],
      "source": [
        "nltk.data.path.append(\"/content/vader_lexicon.txt\")\n",
        "\n",
        "\n",
        "nltk.download('vader_lexicon')\n",
        "sentiment= SentimentIntensityAnalyzer()"
      ]
    },
    {
      "cell_type": "code",
      "execution_count": null,
      "metadata": {
        "id": "stIHnD13dVjZ",
        "colab": {
          "base_uri": "https://localhost:8080/"
        },
        "outputId": "fd669843-0647-4db2-ac50-854f90aabcb2"
      },
      "outputs": [
        {
          "output_type": "stream",
          "name": "stdout",
          "text": [
            "compound: 0.8783, \n",
            "neg: 0.015, \n",
            "neu: 0.796, \n",
            "pos: 0.189, \n",
            "I feel so LUCKY to have found this used (phone to us & not used hard at all), phone on line from someone who upgraded and sold this one. My Son liked his old one that finally fell apart after 2.5+ years and didn't want an upgrade!! Thank you Seller, we really appreciate it & your honesty re: said used phone.I recommend this seller very highly & would but from them again!!\n",
            "compound: 0.9231, \n",
            "neg: 0.072, \n",
            "neu: 0.597, \n",
            "pos: 0.331, \n",
            "nice phone, nice up grade from my pantach revue. Very clean set up and easy set up. never had an android phone but they are fantastic to say the least. perfect size for surfing and social media. great phone samsung\n",
            "compound: 0.4927, \n",
            "neg: 0.0, \n",
            "neu: 0.238, \n",
            "pos: 0.762, \n",
            "Very pleased\n",
            "compound: 0.9185, \n",
            "neg: 0.0, \n",
            "neu: 0.5, \n",
            "pos: 0.5, \n",
            "It works good but it goes slow sometimes but its a very good phone I love it\n",
            "compound: 0.2942, \n",
            "neg: 0.038, \n",
            "neu: 0.897, \n",
            "pos: 0.065, \n",
            "Great phone to replace my lost phone. The only thing is the volume up button does not work, but I can still go into settings to adjust. Other than that, it does the job until I am eligible to upgrade my phone again.Thaanks!\n",
            "compound: -0.9107, \n",
            "neg: 0.143, \n",
            "neu: 0.857, \n",
            "pos: 0.0, \n",
            "I already had a phone with problems... I know it stated it was used, but dang, it did not state that it did not charge. I wish I would have read these comments then I would have not purchased this item.... and its cracked on the side.. damaged goods is what it is.... If trying to charge it another way does not work I am requesting for my money back... AND I WILL GET MY MONEY BACK...SIGNED AN UNHAPPY CUSTOMER....\n",
            "compound: -0.0516, \n",
            "neg: 0.057, \n",
            "neu: 0.891, \n",
            "pos: 0.052, \n",
            "The charging port was loose. I got that soldered in. Then needed a new battery as well. $100 later (not including cost of purchase) I have a usable phone. The phone should not have been sold in the state it was in.\n",
            "compound: 0.4486, \n",
            "neg: 0.087, \n",
            "neu: 0.709, \n",
            "pos: 0.204, \n",
            "Phone looks good but wouldn't stay charged, had to buy new battery. Still couldn't stay charged long.so I trashed it.MONEY lost, never again will I buy from this person! !!!\n",
            "compound: 0.9491, \n",
            "neg: 0.023, \n",
            "neu: 0.848, \n",
            "pos: 0.129, \n",
            "I originally was using the Samsung S2 Galaxy for Sprint and wanted to return back to the Samsung EPIC 4G for Sprint because I really missed the keyboard, I really liked the smaller compact size of the phone, and I still needed some of the basic functions of a smart phone (i.e. checking e-mail, getting directions, text messaging) Because the phone is not as powerful as the newer cell phones out there, just be aware that the more applications you install the slower the phone runs and will most likely freeze up from time to time. But the camera works great, the video is great as well, and even the web browsing is decent and gives me what I need. I also notice that battery life lasts a little bit longer and charging the phone is much quicker than my Galaxy S2.\n",
            "compound: 0.8268, \n",
            "neg: 0.0, \n",
            "neu: 0.791, \n",
            "pos: 0.209, \n",
            "It's battery life is great. It's very responsive to touch. The only issue is that sometimes the screen goes black and you have to press the top button several times to get the screen to re-illuminate.\n"
          ]
        }
      ],
      "source": [
        "for sentences in sample_review:\n",
        "    sentences\n",
        "    ss = sentiment.polarity_scores(sentences)\n",
        "    for k in sorted(ss):\n",
        "        print('{0}: {1}, '.format(k, ss[k]))\n",
        "    print(sentences)"
      ]
    },
    {
      "cell_type": "code",
      "execution_count": null,
      "metadata": {
        "id": "DMbcUQR2dioS"
      },
      "outputs": [],
      "source": [
        "Cluster_Data = pd.read_csv('/content/drive/MyDrive/ML_Project_(Twitter)/Data set/Amazon_Unlocked_Mobile.csv',nrows=6000)"
      ]
    },
    {
      "cell_type": "code",
      "execution_count": null,
      "metadata": {
        "id": "zGGPyueCdte_",
        "colab": {
          "base_uri": "https://localhost:8080/"
        },
        "outputId": "40acadfc-acbd-4c4d-a38f-d45071483a47"
      },
      "outputs": [
        {
          "output_type": "execute_result",
          "data": {
            "text/plain": [
              "Index(['Product Name', 'Brand Name', 'Price', 'Rating', 'Reviews',\n",
              "       'Review Votes'],\n",
              "      dtype='object')"
            ]
          },
          "metadata": {},
          "execution_count": 16
        }
      ],
      "source": [
        "from sklearn.feature_extraction.text import TfidfVectorizer\n",
        "from nltk.stem import WordNetLemmatizer\n",
        "import re\n",
        "Cluster_Data.columns"
      ]
    },
    {
      "cell_type": "code",
      "execution_count": null,
      "metadata": {
        "id": "WMzV3W6HeDop",
        "colab": {
          "base_uri": "https://localhost:8080/"
        },
        "outputId": "ce2e863e-9a5a-4122-cf62-5d5c1bdf4dc7"
      },
      "outputs": [
        {
          "output_type": "stream",
          "name": "stderr",
          "text": [
            "[nltk_data] Downloading package stopwords to /root/nltk_data...\n",
            "[nltk_data]   Unzipping corpora/stopwords.zip.\n"
          ]
        },
        {
          "output_type": "execute_result",
          "data": {
            "text/plain": [
              "True"
            ]
          },
          "metadata": {},
          "execution_count": 17
        }
      ],
      "source": [
        "import nltk\n",
        "nltk.download('stopwords')"
      ]
    },
    {
      "cell_type": "code",
      "execution_count": null,
      "metadata": {
        "id": "1WY-PQnJdzA_"
      },
      "outputs": [],
      "source": [
        "from nltk.corpus import stopwords\n",
        "stop = set(stopwords.words('english'))\n",
        "from nltk.corpus import stopwords\n",
        "def remove_stopword(word):\n",
        "    return word not in words\n",
        "\n",
        "from nltk.stem import WordNetLemmatizer\n",
        "Lemma = WordNetLemmatizer()\n",
        "\n",
        "from nltk.stem.snowball import SnowballStemmer\n",
        "stemmer = SnowballStemmer(\"english\")\n",
        "\n",
        "Cluster_Data['NewReviews'] = Cluster_Data['Reviews'].str.lower().str.split()\n",
        "Cluster_Data['NewReviews'] = Cluster_Data['NewReviews'].apply(lambda x : [item for item in x if item not in stop])"
      ]
    },
    {
      "cell_type": "code",
      "execution_count": null,
      "metadata": {
        "id": "F0cXduAseLKO",
        "colab": {
          "base_uri": "https://localhost:8080/"
        },
        "outputId": "f6cbcab1-9b27-4c8f-bfbd-f1af5889beef"
      },
      "outputs": [
        {
          "output_type": "stream",
          "name": "stderr",
          "text": [
            "[nltk_data] Downloading package wordnet to /root/nltk_data...\n"
          ]
        }
      ],
      "source": [
        "nltk.download('wordnet')\n",
        "Cluster_Data['Cleaned_reviews'] = [''.join([WordNetLemmatizer().lemmatize(re.sub('[^A-Za-z]', ' ', line))\n",
        "for line in lists]).strip() for lists in Cluster_Data['NewReviews']]"
      ]
    },
    {
      "cell_type": "code",
      "execution_count": null,
      "metadata": {
        "id": "S-v4oTyNeUQA",
        "colab": {
          "base_uri": "https://localhost:8080/"
        },
        "outputId": "de1d5c9f-bd5c-4fe7-82f2-abf7b5390743"
      },
      "outputs": [
        {
          "output_type": "execute_result",
          "data": {
            "text/plain": [
              "Index(['Product Name', 'Brand Name', 'Price', 'Rating', 'Reviews',\n",
              "       'Review Votes', 'NewReviews', 'Cleaned_reviews'],\n",
              "      dtype='object')"
            ]
          },
          "metadata": {},
          "execution_count": 20
        }
      ],
      "source": [
        "Cluster_Data.columns"
      ]
    },
    {
      "cell_type": "code",
      "execution_count": null,
      "metadata": {
        "id": "hj0hr7KLeY6K"
      },
      "outputs": [],
      "source": [
        "vectorizer = TfidfVectorizer(max_df=0.5,max_features=10000,min_df=10,stop_words='english',use_idf=True)"
      ]
    },
    {
      "cell_type": "code",
      "execution_count": null,
      "metadata": {
        "id": "lYeQV2A0eanG",
        "colab": {
          "base_uri": "https://localhost:8080/"
        },
        "outputId": "0c2c9787-eb79-4bd0-9421-8aaf7a9263e6"
      },
      "outputs": [
        {
          "output_type": "stream",
          "name": "stdout",
          "text": [
            "  (1, 105)\t1.0\n",
            "  (2, 120)\t1.0\n",
            "  (10, 47)\t0.6834774092366215\n",
            "  (10, 30)\t0.7299716645618485\n",
            "  (14, 32)\t1.0\n",
            "  (17, 150)\t1.0\n",
            "  (18, 89)\t1.0\n",
            "  (21, 126)\t1.0\n",
            "  (24, 137)\t0.8347302334187585\n",
            "  (24, 114)\t0.5506590936474808\n",
            "  (26, 22)\t1.0\n",
            "  (27, 124)\t0.7243758575202875\n",
            "  (27, 119)\t0.689405263282598\n",
            "  (29, 56)\t1.0\n",
            "  (30, 33)\t1.0\n",
            "  (33, 36)\t1.0\n",
            "  (36, 70)\t1.0\n",
            "  (39, 41)\t1.0\n",
            "  (40, 40)\t1.0\n",
            "  (41, 40)\t1.0\n",
            "  (44, 89)\t1.0\n",
            "  (45, 88)\t1.0\n",
            "  (48, 56)\t1.0\n",
            "  (55, 41)\t1.0\n",
            "  (57, 167)\t0.6294079246640729\n",
            "  :\t:\n",
            "  (5959, 70)\t0.6791612101456214\n",
            "  (5959, 36)\t0.7339891352285366\n",
            "  (5961, 38)\t1.0\n",
            "  (5962, 169)\t1.0\n",
            "  (5965, 73)\t0.613358465919278\n",
            "  (5965, 93)\t0.7898046545096769\n",
            "  (5967, 75)\t1.0\n",
            "  (5968, 131)\t1.0\n",
            "  (5972, 73)\t0.7019353761962553\n",
            "  (5972, 52)\t0.7122406388603655\n",
            "  (5974, 70)\t1.0\n",
            "  (5975, 29)\t0.770857842587922\n",
            "  (5975, 32)\t0.6370072107289638\n",
            "  (5976, 102)\t1.0\n",
            "  (5977, 77)\t0.7874371617609505\n",
            "  (5977, 80)\t0.6163949353116546\n",
            "  (5978, 145)\t0.7323038859871174\n",
            "  (5978, 171)\t0.6809779868455126\n",
            "  (5979, 101)\t1.0\n",
            "  (5984, 16)\t1.0\n",
            "  (5987, 56)\t1.0\n",
            "  (5991, 95)\t1.0\n",
            "  (5994, 43)\t1.0\n",
            "  (5997, 169)\t1.0\n",
            "  (5999, 108)\t1.0\n"
          ]
        }
      ],
      "source": [
        "model = vectorizer.fit_transform(Cluster_Data['Cleaned_reviews'].str.upper())\n",
        "print(model)"
      ]
    },
    {
      "cell_type": "code",
      "execution_count": null,
      "metadata": {
        "id": "gDmPSC_xDMh_"
      },
      "outputs": [],
      "source": [
        "vectorizer=TfidfVectorizer()\n",
        "km = KMeans(n_clusters=5,init='k-means++',max_iter=200,n_init=1)\n",
        "# km.fit(model)"
      ]
    },
    {
      "cell_type": "code",
      "execution_count": null,
      "metadata": {
        "id": "ZD1uA-GpefpT",
        "colab": {
          "base_uri": "https://localhost:8080/"
        },
        "outputId": "2a2b2d60-fc7f-4493-c4e9-3f1cb6644536"
      },
      "outputs": [
        {
          "output_type": "stream",
          "name": "stdout",
          "text": [
            "Cluster 0: good excelente great greatphone workgreat love loveit perfect ok goodphone\n",
            "Cluster 1: okay enoughinternalmemory frequentlyfreezeenoughmemoryhandleapps dknowni dmanyproblemit phonereallyslow wouldboughtdifferentphone ioupgradeablegrandsondaythinguseandroid doneresearchbuying zoomwayprintphotothat\n",
            "Cluster 2: excellent greatpriceworkwonderful happier manythanks wowphonerecomend sellergreatworkwith thanks good goodinvestment wellefficient\n",
            "Cluster 3: lovephone thankmuch workgreat plusreceived dayswithoutpayingfastershipment noproblems likebrandnew happypurchase greatbuy usuallybuyingunlockedphoneamazonproblem\n",
            "Cluster 4: that thankyou so now however perfect gb idol phone it\n"
          ]
        }
      ],
      "source": [
        "tfidf_matrix = vectorizer.fit_transform(Cluster_Data['Cleaned_reviews'])\n",
        "km.fit(tfidf_matrix)\n",
        "terms = vectorizer.get_feature_names_out()\n",
        "order_centroids = km.cluster_centers_.argsort()[:, ::-1]\n",
        "for i in range(5):\n",
        "    print(\"Cluster %d:\" % i, end='')\n",
        "    for ind in order_centroids[i, :10]:\n",
        "        print(' %s' % terms[ind], end='')\n",
        "    print()\n",
        "# terms = vectorizer()\n",
        "# terms.vectorizer.get_feature_names_out()\n",
        "# terms= vectorizer.get_feature_names_out()\n",
        "# order_centroids = km.cluster_centers_.argsort()[:,::-1]\n",
        "# for i in range(5):\n",
        "#     print(\"cluster %d:\" %i,end='')\n",
        "#     for ind in order_centroids[i,:10]:\n",
        "#         print(' %s' % terms[ind],end='')\n",
        "#     print()\n"
      ]
    }
  ],
  "metadata": {
    "colab": {
      "provenance": []
    },
    "kernelspec": {
      "display_name": "Python 3",
      "name": "python3"
    },
    "language_info": {
      "name": "python"
    }
  },
  "nbformat": 4,
  "nbformat_minor": 0
}